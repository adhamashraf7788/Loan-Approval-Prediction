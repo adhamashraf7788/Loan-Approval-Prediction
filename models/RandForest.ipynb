{
  "nbformat": 4,
  "nbformat_minor": 0,
  "metadata": {
    "colab": {
      "provenance": []
    },
    "kernelspec": {
      "name": "python3",
      "display_name": "Python 3"
    },
    "language_info": {
      "name": "python"
    }
  },
  "cells": [
    {
      "cell_type": "code",
      "execution_count": 25,
      "metadata": {
        "id": "BlcX8Ts5m5LG"
      },
      "outputs": [],
      "source": [
        "import numpy as np\n",
        "import pandas as pd\n",
        "import seaborn as sns\n",
        "from sklearn.model_selection import train_test_split\n",
        "from sklearn.metrics import accuracy_score, confusion_matrix, classification_report # to get the accuracy score ,confusion matrix of the model\n",
        "from sklearn.preprocessing import StandardScaler , LabelEncoder\n",
        "from sklearn.neighbors import KNeighborsClassifier"
      ]
    },
    {
      "cell_type": "code",
      "source": [
        "loan_dataSet = pd.read_csv('/content/LoanPredictionDataset.csv')\n"
      ],
      "metadata": {
        "id": "0ruYgbqpm9Iz"
      },
      "execution_count": 26,
      "outputs": []
    },
    {
      "cell_type": "code",
      "source": [
        "loan_dataSet=loan_dataSet.dropna()"
      ],
      "metadata": {
        "id": "zsTwzZ-nnABY"
      },
      "execution_count": 27,
      "outputs": []
    },
    {
      "cell_type": "code",
      "source": [
        "loan_dataSet['Dependents'] = loan_dataSet['Dependents'].replace('3+', 3).astype(int)"
      ],
      "metadata": {
        "id": "o7yUajNinPaW"
      },
      "execution_count": 28,
      "outputs": []
    },
    {
      "cell_type": "code",
      "source": [
        "# Encode categorical variables\n",
        "label_encoder = LabelEncoder()\n",
        "for col in ['Gender', 'Married', 'Education', 'Self_Employed', 'Property_Area', 'Loan_Status']:\n",
        "    loan_dataSet[col] = label_encoder.fit_transform(loan_dataSet[col])"
      ],
      "metadata": {
        "id": "_iivAuMpnTEO"
      },
      "execution_count": 29,
      "outputs": []
    },
    {
      "cell_type": "code",
      "source": [
        "#Drop ID and gender columns (feature exctraction), split the data set into X --> (Features) , Y --> (Lables)\n",
        "X = loan_dataSet.drop(columns=['Loan_ID','Gender','Loan_Status'])\n",
        "Y=loan_dataSet['Loan_Status']"
      ],
      "metadata": {
        "id": "QniY9bPGnTa1"
      },
      "execution_count": 91,
      "outputs": []
    },
    {
      "cell_type": "code",
      "source": [
        "#Split the data into training and testing (65-35)\n",
        "X_train, X_test,Y_train,Y_test = train_test_split(X,Y,test_size=0.35,stratify=Y,random_state=20)"
      ],
      "metadata": {
        "id": "XB8mWFIZneX2"
      },
      "execution_count": 92,
      "outputs": []
    },
    {
      "cell_type": "code",
      "source": [
        "sc=StandardScaler()\n",
        "X_train=sc.fit_transform(X_train)\n",
        "X_test=sc.fit_transform(X_test)"
      ],
      "metadata": {
        "id": "feP5wUBlnikN"
      },
      "execution_count": 93,
      "outputs": []
    },
    {
      "cell_type": "code",
      "source": [
        "classifier = KNeighborsClassifier(n_neighbors = 10, metric = 'minkowski', p = 2)#The default metric is minkowski, and with p=2 is equivalent to the standard Euclidean metric.\n",
        "classifier.fit(X_train, Y_train)\n",
        "Y_pred=classifier.predict(X_test)"
      ],
      "metadata": {
        "id": "MOQXDwXPnopr"
      },
      "execution_count": 94,
      "outputs": []
    },
    {
      "cell_type": "code",
      "source": [
        "# Evaluate the model\n",
        "print(\"Accuracy:\", accuracy_score(Y_test, Y_pred))\n",
        "print(\"Confusion Matrix:\\n\", confusion_matrix(Y_test, Y_pred))\n",
        "print(\"Classification Report:\\n\", classification_report(Y_test, Y_pred))"
      ],
      "metadata": {
        "colab": {
          "base_uri": "https://localhost:8080/"
        },
        "id": "1vmdw_FEnpK_",
        "outputId": "42c46058-2b97-489b-fa7d-ec631e182e58"
      },
      "execution_count": 95,
      "outputs": [
        {
          "output_type": "stream",
          "name": "stdout",
          "text": [
            "Accuracy: 0.8333333333333334\n",
            "Confusion Matrix:\n",
            " [[ 26  26]\n",
            " [  2 114]]\n",
            "Classification Report:\n",
            "               precision    recall  f1-score   support\n",
            "\n",
            "           0       0.93      0.50      0.65        52\n",
            "           1       0.81      0.98      0.89       116\n",
            "\n",
            "    accuracy                           0.83       168\n",
            "   macro avg       0.87      0.74      0.77       168\n",
            "weighted avg       0.85      0.83      0.82       168\n",
            "\n"
          ]
        }
      ]
    },
    {
      "cell_type": "code",
      "source": [],
      "metadata": {
        "id": "75VyL9f3nvEn"
      },
      "execution_count": 95,
      "outputs": []
    }
  ]
}