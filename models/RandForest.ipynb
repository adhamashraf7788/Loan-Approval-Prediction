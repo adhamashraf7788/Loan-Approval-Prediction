{
 "cells": [
  {
   "cell_type": "code",
   "execution_count": 3,
   "metadata": {
    "id": "BlcX8Ts5m5LG"
   },
   "outputs": [],
   "source": [
    "import numpy as np\n",
    "import pandas as pd\n",
    "import seaborn as sns\n",
    "from sklearn.model_selection import train_test_split\n",
    "from sklearn.metrics import accuracy_score, confusion_matrix, classification_report # to get the accuracy score ,confusion matrix of the model\n",
    "from sklearn.preprocessing import StandardScaler , LabelEncoder\n",
    "from sklearn.neighbors import KNeighborsClassifier\n",
    "import joblib\n"
   ]
  },
  {
   "cell_type": "code",
   "execution_count": 4,
   "metadata": {
    "id": "0ruYgbqpm9Iz"
   },
   "outputs": [],
   "source": [
    "loan_dataSet = pd.read_csv('LoanPredictionDataset.csv')\n"
   ]
  },
  {
   "cell_type": "code",
   "execution_count": 5,
   "metadata": {
    "id": "zsTwzZ-nnABY"
   },
   "outputs": [],
   "source": [
    "loan_dataSet=loan_dataSet.dropna()"
   ]
  },
  {
   "cell_type": "code",
   "execution_count": 6,
   "metadata": {
    "id": "o7yUajNinPaW"
   },
   "outputs": [],
   "source": [
    "loan_dataSet['Dependents'] = loan_dataSet['Dependents'].replace('3+', 3).astype(int)"
   ]
  },
  {
   "cell_type": "code",
   "execution_count": 7,
   "metadata": {
    "id": "_iivAuMpnTEO"
   },
   "outputs": [],
   "source": [
    "# Encode categorical variables\n",
    "label_encoder = LabelEncoder()\n",
    "for col in ['Gender', 'Married', 'Education', 'Self_Employed', 'Property_Area', 'Loan_Status']:\n",
    "    loan_dataSet[col] = label_encoder.fit_transform(loan_dataSet[col])"
   ]
  },
  {
   "cell_type": "code",
   "execution_count": 8,
   "metadata": {
    "id": "QniY9bPGnTa1"
   },
   "outputs": [],
   "source": [
    "#Drop ID and gender columns (feature exctraction), split the data set into X --> (Features) , Y --> (Lables)\n",
    "X = loan_dataSet.drop(columns=['Loan_ID','Gender','Loan_Status'])\n",
    "Y=loan_dataSet['Loan_Status']"
   ]
  },
  {
   "cell_type": "code",
   "execution_count": 13,
   "metadata": {
    "id": "XB8mWFIZneX2"
   },
   "outputs": [],
   "source": [
    "#Split the data into training and testing (65-35)\n",
    "X_train, X_test,Y_train,Y_test = train_test_split(X,Y,test_size=0.35,stratify=Y,random_state=20)"
   ]
  },
  {
   "cell_type": "code",
   "execution_count": 14,
   "metadata": {
    "id": "feP5wUBlnikN"
   },
   "outputs": [],
   "source": [
    "sc=StandardScaler()\n",
    "X_train=sc.fit_transform(X_train)\n",
    "X_test=sc.fit_transform(X_test)"
   ]
  },
  {
   "cell_type": "code",
   "execution_count": 28,
   "metadata": {
    "id": "MOQXDwXPnopr"
   },
   "outputs": [],
   "source": [
    "classifier = KNeighborsClassifier(n_neighbors = 10, metric = 'minkowski', p = 5)#The default metric is minkowski, and with p=2 is equivalent to the standard Euclidean metric.\n",
    "classifier.fit(X_train, Y_train)\n",
    "Y_pred=classifier.predict(X_test)"
   ]
  },
  {
   "cell_type": "code",
   "execution_count": 29,
   "metadata": {
    "colab": {
     "base_uri": "https://localhost:8080/"
    },
    "id": "1vmdw_FEnpK_",
    "outputId": "42c46058-2b97-489b-fa7d-ec631e182e58"
   },
   "outputs": [
    {
     "name": "stdout",
     "output_type": "stream",
     "text": [
      "Accuracy: 0.8392857142857143\n",
      "Confusion Matrix:\n",
      " [[ 28  24]\n",
      " [  3 113]]\n",
      "Classification Report:\n",
      "               precision    recall  f1-score   support\n",
      "\n",
      "           0       0.90      0.54      0.67        52\n",
      "           1       0.82      0.97      0.89       116\n",
      "\n",
      "    accuracy                           0.84       168\n",
      "   macro avg       0.86      0.76      0.78       168\n",
      "weighted avg       0.85      0.84      0.83       168\n",
      "\n"
     ]
    }
   ],
   "source": [
    "# Evaluate the model\n",
    "print(\"Accuracy:\", accuracy_score(Y_test, Y_pred))\n",
    "print(\"Confusion Matrix:\\n\", confusion_matrix(Y_test, Y_pred))\n",
    "print(\"Classification Report:\\n\", classification_report(Y_test, Y_pred))"
   ]
  },
  {
   "cell_type": "code",
   "execution_count": 19,
   "metadata": {
    "id": "75VyL9f3nvEn"
   },
   "outputs": [
    {
     "data": {
      "text/plain": [
       "['random_forest_model']"
      ]
     },
     "execution_count": 19,
     "metadata": {},
     "output_type": "execute_result"
    }
   ],
   "source": [
    "import pickle \n",
    "import joblib\n",
    "import os\n",
    "joblib.dump(Y_pred,'random_forest_model')\n"
   ]
  },
  {
   "cell_type": "code",
   "execution_count": null,
   "metadata": {},
   "outputs": [],
   "source": []
  }
 ],
 "metadata": {
  "colab": {
   "provenance": []
  },
  "kernelspec": {
   "display_name": "Python 3 (ipykernel)",
   "language": "python",
   "name": "python3"
  },
  "language_info": {
   "codemirror_mode": {
    "name": "ipython",
    "version": 3
   },
   "file_extension": ".py",
   "mimetype": "text/x-python",
   "name": "python",
   "nbconvert_exporter": "python",
   "pygments_lexer": "ipython3",
   "version": "3.12.7"
  }
 },
 "nbformat": 4,
 "nbformat_minor": 4
}
